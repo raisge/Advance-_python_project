{
 "cells": [
  {
   "cell_type": "code",
   "execution_count": null,
   "id": "d7ba9ae8",
   "metadata": {},
   "outputs": [],
   "source": [
    "Q1. What is the relationship between classes and modules?\n",
    "\n",
    "Modules are about providing methods that you can use across multiple classes.\n",
    "Modules are about functions.\n",
    "You dont instantitate modules(e.g.Maths module) you just use methods in them.\n",
    "module is like library of methods.\n",
    "Classes are about objects it can hold its state (by keeping track of instance variables) and be duplicated as many times\n",
    "as you want."
   ]
  },
  {
   "cell_type": "code",
   "execution_count": null,
   "id": "57e61380",
   "metadata": {},
   "outputs": [],
   "source": [
    "Q2. How do you make instances and classes?\n",
    "\n",
    "To create instances of a class, you call the class using class name and pass in whatever arguments lts init method accepts.\n",
    "\n",
    "The class statement creates a new class defination.\n",
    "The name of the class immediately follows the keyword class followed by a colon. Explained below:"
   ]
  },
  {
   "cell_type": "code",
   "execution_count": 4,
   "id": "655d76f8",
   "metadata": {},
   "outputs": [
    {
     "name": "stdout",
     "output_type": "stream",
     "text": [
      "This is rajeev(An instance of a class )\n"
     ]
    }
   ],
   "source": [
    "class student:\n",
    "    def __init__(self,name):\n",
    "        self.name=name\n",
    "    def __str__(self):\n",
    "        return f\"This is {self.name}(An instance of a class )\"\n",
    "student1=student(\"rajeev\")\n",
    "print(student1)\n",
    "        "
   ]
  },
  {
   "cell_type": "code",
   "execution_count": null,
   "id": "da2661cd",
   "metadata": {},
   "outputs": [],
   "source": [
    "Q3. Where and how should be class attributes created?\n",
    "\n",
    "Class attributes belong to the class itself they will be shared by all the instances.Such attribues are defined in\n",
    "the class body parts usually at the top,for legibility."
   ]
  },
  {
   "cell_type": "code",
   "execution_count": null,
   "id": "733c3813",
   "metadata": {},
   "outputs": [],
   "source": [
    "Q4. Where and how are instance attributes created?\n",
    "\n",
    "Unlike class attributes, instance attributes are not shared by objects.\n",
    "Every object has its own copy of the instance attribute.\n",
    "They are created in init method.How they are created is Explained below:"
   ]
  },
  {
   "cell_type": "code",
   "execution_count": 5,
   "id": "3e9188e9",
   "metadata": {},
   "outputs": [
    {
     "name": "stdout",
     "output_type": "stream",
     "text": [
      "Rajeev\n",
      "22\n"
     ]
    }
   ],
   "source": [
    "class student:\n",
    "    def __init__(self,name,roll_no):\n",
    "        self.name=name\n",
    "        self.roll_no=roll_no\n",
    "    def __str__(self):\n",
    "        return f\"This is {self.name}(an instance of a class student)\"\n",
    "student1=student(\"Rajeev\",22)\n",
    "print(student1.name)\n",
    "print(student1.roll_no)"
   ]
  },
  {
   "cell_type": "code",
   "execution_count": null,
   "id": "220c46e5",
   "metadata": {},
   "outputs": [],
   "source": [
    "Q5. What does the term &quot;self&quot; in a Python class mean?\n",
    "\n",
    "Self represents the instance of the class.\n",
    "By using the “self” keyword we can access the attributes and methods of the class in python.\n",
    "It binds the attributes with the given arguments.\n",
    "The reason you need to use self. is because Python does not use the @ syntax to refer to instance attributes.\n",
    "Python decided to do methods in a way that makes the instance to which the method belongs be passed automatically, \n",
    "but not received automatically: the first parameter of methods is the instance the method is called on."
   ]
  },
  {
   "cell_type": "code",
   "execution_count": null,
   "id": "29fe1e0e",
   "metadata": {},
   "outputs": [],
   "source": [
    "Q6. How does a Python class handle operator overloading?\n",
    "\n",
    "Operator Overloading means giving extended meaning beyond their predefined operational meaning. For example operator +\n",
    "is used to add two integers as well as join two strings and merge two lists.It is achievable because \"+\" opeator is \n",
    "overloaded by int class and str class."
   ]
  },
  {
   "cell_type": "code",
   "execution_count": null,
   "id": "c2e3ad4b",
   "metadata": {},
   "outputs": [],
   "source": [
    "Q7. When do you consider allowing operator overloading of your classes?\n",
    "\n",
    "let us assume we have an object called string1 which is a string object as defined below.\n",
    "Now when try to add a string to this string object, the compiler will throw an error.\n",
    "This is because the compiler doesn't know how to add them."
   ]
  },
  {
   "cell_type": "code",
   "execution_count": 6,
   "id": "d715ff63",
   "metadata": {},
   "outputs": [
    {
     "ename": "TypeError",
     "evalue": "unsupported operand type(s) for +: 'string' and 'str'",
     "output_type": "error",
     "traceback": [
      "\u001b[1;31m---------------------------------------------------------------------------\u001b[0m",
      "\u001b[1;31mTypeError\u001b[0m                                 Traceback (most recent call last)",
      "Cell \u001b[1;32mIn[6], line 10\u001b[0m\n\u001b[0;32m      7\u001b[0m string1\u001b[38;5;241m=\u001b[39mstring(\u001b[38;5;124m\"\u001b[39m\u001b[38;5;124mHello\u001b[39m\u001b[38;5;124m\"\u001b[39m)\n\u001b[0;32m      8\u001b[0m \u001b[38;5;66;03m# now concatinating string and string object\u001b[39;00m\n\u001b[0;32m      9\u001b[0m \u001b[38;5;66;03m#print(string1+\"world\")\u001b[39;00m\n\u001b[1;32m---> 10\u001b[0m \u001b[38;5;28mprint\u001b[39m(string1\u001b[38;5;241m+\u001b[39m\u001b[38;5;124m\"\u001b[39m\u001b[38;5;124mworld\u001b[39m\u001b[38;5;124m\"\u001b[39m)\n",
      "\u001b[1;31mTypeError\u001b[0m: unsupported operand type(s) for +: 'string' and 'str'"
     ]
    }
   ],
   "source": [
    "#our own string class\n",
    "class string:\n",
    "    def __init__(self,string):\n",
    "        self.string=string\n",
    "    def __repr__(self):\n",
    "        return \"Object: {}\".format(self.string)\n",
    "string1=string(\"Hello\")\n",
    "# now concatinating string and string object\n",
    "#print(string1+\"world\")\n",
    "print(string1+\"world\")"
   ]
  },
  {
   "cell_type": "code",
   "execution_count": null,
   "id": "08ae6717",
   "metadata": {},
   "outputs": [],
   "source": [
    "Q8. What is the most popular form of operator overloading?\n",
    "\n",
    "I feel, most popular form of operator overloading is of addition (+) operator.\n",
    "When two integers are passed to + operator, it will return the sum of two integers.\n",
    "When two strings are passed to + operator, it will return concatenation of two strings.\n",
    "\n"
   ]
  },
  {
   "cell_type": "code",
   "execution_count": null,
   "id": "4dbeb3c3",
   "metadata": {},
   "outputs": [],
   "source": [
    "Q9. What are the two most important concepts to grasp in order to comprehend Python OOP code?\n",
    "\n",
    "1.inheritance\n",
    "2.polymorphism"
   ]
  }
 ],
 "metadata": {
  "kernelspec": {
   "display_name": "Python 3 (ipykernel)",
   "language": "python",
   "name": "python3"
  },
  "language_info": {
   "codemirror_mode": {
    "name": "ipython",
    "version": 3
   },
   "file_extension": ".py",
   "mimetype": "text/x-python",
   "name": "python",
   "nbconvert_exporter": "python",
   "pygments_lexer": "ipython3",
   "version": "3.11.5"
  }
 },
 "nbformat": 4,
 "nbformat_minor": 5
}
