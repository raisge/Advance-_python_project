{
 "cells": [
  {
   "cell_type": "code",
   "execution_count": null,
   "id": "0a0d4e37",
   "metadata": {},
   "outputs": [],
   "source": [
    "Q1. What is the purpose of Python OOP?\n",
    "\n",
    "Provides a clear program structure and a clean code\n",
    "Facilitates easy maintenance and modification of existing code.\n",
    "Since the class is sharable, the code can be reused.\n",
    "Since the class is sharable, the code can be reused and many other such anvantages "
   ]
  },
  {
   "cell_type": "code",
   "execution_count": null,
   "id": "4129264c",
   "metadata": {},
   "outputs": [],
   "source": [
    "Q2. Where does an inheritance search look for an attribute?\n",
    "\n",
    "Attribute fetches are simply tree searches.\n",
    "The term inheritance is applied because abjects lower in a tree inherit attributes attached to objects \n",
    "higher in that tree.\n",
    "As the search proceeds from the bottom up,in a sence,\n",
    "the objects linked into a tree are the union af all attributes defined in all their tree parents,all the way up the tree."
   ]
  },
  {
   "cell_type": "code",
   "execution_count": null,
   "id": "50a5dd90",
   "metadata": {},
   "outputs": [],
   "source": [
    "Q3. How do you distinguish between a class object and an instance object?\n",
    "\n",
    "Objects amd instances are almost similar and are often used interchangeably but with small difference.\n",
    "Object is a generic term, it is physically present but remains undifferentiated . \n",
    "Instance is something that gives them a seperate identity. Object is the physical entity for which memory is allocated.\n",
    "Object contains many instance. \n",
    "Instance:An instance is also the physical manifestation of a class that occupies memory and has data members. \n",
    "e.g. There is class car, when I created c=car(), c is object. \n",
    "When we create different object with different specifictions(car,name,type,company) \n",
    "such as i10,i20,baleno,mustang are called as instances which actually exists."
   ]
  },
  {
   "cell_type": "code",
   "execution_count": null,
   "id": "43eb02e9",
   "metadata": {},
   "outputs": [],
   "source": [
    "Q4. What makes the first argument in a class’s method function special?\n",
    "\n",
    "Self represents the instance of the class.\n",
    "By using the \"self\"keyword we can access the attributes and methods ao the class in python,\n",
    "It binds the attributes with the given arguments. \n",
    "The reason you need to use self is because Python does not use the @syntax to refer to instance attributes.\n",
    "Python decided to do methods in a way that makes the instance to which the method belongs be passed automatically,\n",
    "but not recieved automatically the first parameter of methods is the instance the method is called on"
   ]
  },
  {
   "cell_type": "code",
   "execution_count": null,
   "id": "fa8f28b3",
   "metadata": {},
   "outputs": [],
   "source": [
    "Q5. What is the purpose of the __init__ method?\n",
    "\n",
    "The task of init method is to initialize(assign values) to the data members of the class\n",
    "when an object of class is created.It contains collection of statements that are executed at time of object creation. \n",
    "It is run as soon as an object of a class is instantiated.\n",
    "The method is usefull to do any initialization you want to do with your object."
   ]
  },
  {
   "cell_type": "code",
   "execution_count": null,
   "id": "0447b35a",
   "metadata": {},
   "outputs": [],
   "source": [
    "Q6. What is the process for creating a class instance?\n",
    "\n",
    "To create instance of a class, you call the class using class name and pass in whatever arguments its init method accepts.\n"
   ]
  },
  {
   "cell_type": "code",
   "execution_count": null,
   "id": "0e35135b",
   "metadata": {},
   "outputs": [],
   "source": [
    "Q7. What is the process for creating a class?\n",
    "\n",
    "The class statement creates a new class definition.\n",
    "The name of the class immediately follows the keyword class followed class followed by a colon.\n"
   ]
  },
  {
   "cell_type": "code",
   "execution_count": null,
   "id": "16703b44",
   "metadata": {},
   "outputs": [],
   "source": [
    "Q8. How would you define the superclasses of a class?\n",
    "\n",
    "A superclass is the class from which many subclasses can be created.\n",
    "The subclasses inherit the characteristics of a super class.\n",
    "The superclass is also known as the parent class or base class.\n",
    "\n"
   ]
  },
  {
   "cell_type": "code",
   "execution_count": 1,
   "id": "ac531919",
   "metadata": {},
   "outputs": [
    {
     "name": "stdout",
     "output_type": "stream",
     "text": [
      "this is method of class A\n",
      "this is method of class B\n",
      "this is method of class A\n",
      "this is method of class A\n",
      "this is method of class A\n"
     ]
    }
   ],
   "source": [
    "#eg of super class  \n",
    "\n",
    "class A:\n",
    "    def method_A(self):\n",
    "        return \"this is method of class A\"\n",
    "    \n",
    "class B(A):\n",
    "    def method_B(self):\n",
    "        return \"this is method of class B\"\n",
    "\n",
    "class C(A):\n",
    "    def method_B(self):\n",
    "        return \"this is method of class C\"\n",
    "    \n",
    "class D(A):\n",
    "    def method_B(self):\n",
    "        return \"this is method of class D\"\n",
    "\n",
    "# Class B, C, D are subclasses and Class A is superclass    \n",
    "a = A()\n",
    "b = B()\n",
    "c = C()\n",
    "d = D()\n",
    "\n",
    "print(a.method_A())\n",
    "print(b.method_B())\n",
    "print(b.method_A())   # objects of class B, C and D are able to access method of class A because Class A is superclass. \n",
    "print(c.method_A())\n",
    "print(d.method_A())"
   ]
  },
  {
   "cell_type": "code",
   "execution_count": null,
   "id": "41f72eba",
   "metadata": {},
   "outputs": [],
   "source": []
  }
 ],
 "metadata": {
  "kernelspec": {
   "display_name": "Python 3 (ipykernel)",
   "language": "python",
   "name": "python3"
  },
  "language_info": {
   "codemirror_mode": {
    "name": "ipython",
    "version": 3
   },
   "file_extension": ".py",
   "mimetype": "text/x-python",
   "name": "python",
   "nbconvert_exporter": "python",
   "pygments_lexer": "ipython3",
   "version": "3.11.5"
  }
 },
 "nbformat": 4,
 "nbformat_minor": 5
}
