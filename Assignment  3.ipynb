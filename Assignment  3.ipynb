{
 "cells": [
  {
   "cell_type": "code",
   "execution_count": null,
   "id": "47fbdc56",
   "metadata": {},
   "outputs": [],
   "source": [
    "1. What is the concept of an abstract superclass?\n",
    "\n",
    "class is called an Abstract class if it contains one or more abstract methods.An abstract method is a nethod that \n",
    "is declared, but contains no implementation.Abstract classes may not be instantiated, and abstract methods must be \n",
    "implemented by its subclasses."
   ]
  },
  {
   "cell_type": "code",
   "execution_count": 3,
   "id": "acccd088",
   "metadata": {},
   "outputs": [
    {
     "name": "stdout",
     "output_type": "stream",
     "text": [
      "area: 100\n"
     ]
    }
   ],
   "source": [
    "import abc\n",
    "class Shape(metaclass=abc.ABCMeta):\n",
    "    @abc.abstractmethod\n",
    "    def area(self):\n",
    "        pass\n",
    "class Rectangle(Shape):\n",
    "    def __init__(self,x,y):\n",
    "        self.l=x\n",
    "        self.b=y\n",
    "    def area(self):\n",
    "        return self.l*self.b\n",
    "\n",
    "r=Rectangle(5,20)\n",
    "print(\"area:\",r.area())"
   ]
  },
  {
   "cell_type": "markdown",
   "id": "cc69155c",
   "metadata": {},
   "source": [
    "The \"abc\" module in python library provides the infrastructure for defining custom abstract base classes. \"abc\" works by marking methods of the base class as abstract.This is done by @abstractmethod decorator. A concrete class which is a sub class of such abstract base class then implememts the abstract base by overriding its abstract methods.\n",
    "\n",
    "The abc module defines ABCMeta class which is a meta class for defining abstract base class. Following example defines Shape class as an abstract base class using ABCMeta. The shape class has area() method decorated by abstractmethod.\n",
    "\n",
    "A Rectangle class now uses above Shape class as its parent and implementing the abstract area() method. since it is a concrete class, it can be instantiated and implemented area() method can be called."
   ]
  },
  {
   "cell_type": "code",
   "execution_count": null,
   "id": "9f8b7277",
   "metadata": {},
   "outputs": [],
   "source": [
    "2. What happens when a class statement&#39;s top level contains a basic assignment statement?\n",
    "\n",
    "When class statement's top level contains a basic assignment statement,it is considered as class attribute.Change in\n",
    "the value of class attribute will affect all the instances of the class."
   ]
  },
  {
   "cell_type": "code",
   "execution_count": 5,
   "id": "592a85b0",
   "metadata": {},
   "outputs": [
    {
     "name": "stdout",
     "output_type": "stream",
     "text": [
      "1234\n",
      "2\n",
      "3\n",
      "567\n",
      "567\n"
     ]
    }
   ],
   "source": [
    "class Sample:\n",
    "    some_value=1234\n",
    "    \n",
    "    def __init__(self,value1):\n",
    "        self.value1=value1\n",
    "s=Sample(2)\n",
    "s1=Sample(3)\n",
    "print(s.some_value)\n",
    "print(s.value1)\n",
    "print(s1.value1)\n",
    "Sample.some_value=567\n",
    "print(s.some_value)\n",
    "print(s1.some_value)"
   ]
  },
  {
   "cell_type": "code",
   "execution_count": null,
   "id": "0c27d193",
   "metadata": {},
   "outputs": [],
   "source": [
    "3. Why does a class need to manually call a superclass&#39;s __init__ method?\n",
    "\n",
    "We can access those methods of the super-class(parent class)\n",
    "which have been overridden in a sub-class (child class) that inherits from it"
   ]
  },
  {
   "cell_type": "code",
   "execution_count": null,
   "id": "b7b786fa",
   "metadata": {},
   "outputs": [],
   "source": [
    "4. How can you augment, instead of completely replacing, an inherited method?\n",
    "\n",
    "he way to do that in python is by calling to the original version directly, with argumented arguments."
   ]
  },
  {
   "cell_type": "code",
   "execution_count": null,
   "id": "520797e1",
   "metadata": {},
   "outputs": [],
   "source": [
    "5. How is the local scope of a class different from that of a function?\n",
    "\n",
    "Local Scope: \n",
    "A variable created inside a function belongs to the local scope of that function,\n",
    "and can only be used inside that function.\n",
    "\n",
    "Global Scope:\n",
    "A variable created in the main body of the Python code is a global variable and belongs to the global scope.\n",
    "Global variables are available from within any scope, global and local."
   ]
  }
 ],
 "metadata": {
  "kernelspec": {
   "display_name": "Python 3 (ipykernel)",
   "language": "python",
   "name": "python3"
  },
  "language_info": {
   "codemirror_mode": {
    "name": "ipython",
    "version": 3
   },
   "file_extension": ".py",
   "mimetype": "text/x-python",
   "name": "python",
   "nbconvert_exporter": "python",
   "pygments_lexer": "ipython3",
   "version": "3.11.5"
  }
 },
 "nbformat": 4,
 "nbformat_minor": 5
}
